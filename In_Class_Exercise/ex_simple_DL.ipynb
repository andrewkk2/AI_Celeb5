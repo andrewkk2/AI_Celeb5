{
 "cells": [
  {
   "cell_type": "code",
   "execution_count": 1,
   "metadata": {},
   "outputs": [
    {
     "name": "stdout",
     "output_type": "stream",
     "text": [
      "Output After Traing\n",
      "[[ 0.00966449]\n",
      " [ 0.00786506]\n",
      " [ 0.99358898]\n",
      " [ 0.99211957]]\n"
     ]
    }
   ],
   "source": [
    "import numpy as np # 1번째 줄\n",
    "\n",
    "#sigmoid function\n",
    "\n",
    "def nonlin(x, deriv=False): # 4번째 줄\n",
    "  if (deriv==True): # 5번쨰 줄\n",
    "    return x*(1-x)\n",
    "  return 1/(1+np.exp(-x))\n",
    "\n",
    "#input dataset\n",
    "\n",
    "X = np.array([ [0,0,1], #10번째 줄 \n",
    "                [0,1,1],\n",
    "                [1,0,1], \n",
    "                [1,1,1]])\n",
    "\n",
    "\n",
    "# 결과 데이터값\n",
    "y = np.array([[0,0,1,1]]).T #16번째 줄 \n",
    "\n",
    "# 계산을 위한 시드 설정\n",
    "# 실험의 편의를 위해 항상 같은 값이 나오게 한다.\n",
    "np.random.seed(1) #20번째 줄 \n",
    "\n",
    "# weights를 랜덤적으로 mean of 0으로 초기화하자.\n",
    "syn0 = 2*np.random.random((3,1)) - 1 # 23번째 줄\n",
    "\n",
    "for iter in range(10000): #25번째줄 \n",
    "\n",
    "    # forwad propagation\n",
    "    l0 = X # 25번째 줄 # 28번째 줄\n",
    "    l1 = nonlin(np.dot(l0, syn0)) # 29번째 줄\n",
    "\n",
    "    # 우리가 얼마나 놓쳤는가?\n",
    "    l1_error = y- l1 # 32번째 줄 \n",
    "\n",
    "    # 우리가 놓친 것들과 \n",
    "    # 11 의 시그모이드 경사와 곱하기.\n",
    "    l1_delta = l1_error * nonlin(l1, True) # 36번째 줄\n",
    "\n",
    "    # weight 업뎃\n",
    "    syn0 += np.dot(l0.T, l1_delta)\n",
    "\n",
    "print (\"Output After Traing\")\n",
    "print (l1)"
   ]
  }
 ],
 "metadata": {
  "kernelspec": {
   "display_name": "Python 3",
   "language": "python",
   "name": "python3"
  },
  "language_info": {
   "codemirror_mode": {
    "name": "ipython",
    "version": 3
   },
   "file_extension": ".py",
   "mimetype": "text/x-python",
   "name": "python",
   "nbconvert_exporter": "python",
   "pygments_lexer": "ipython3",
   "version": "3.6.1"
  }
 },
 "nbformat": 4,
 "nbformat_minor": 2
}
